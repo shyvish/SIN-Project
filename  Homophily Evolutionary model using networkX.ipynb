{
 "cells": [
  {
   "cell_type": "code",
   "execution_count": 1,
   "id": "a82c3af0",
   "metadata": {},
   "outputs": [],
   "source": [
    "import networkx as nx\n",
    "import matplotlib.pyplot as plt\n",
    "import random\n",
    "import math\n",
    "import time"
   ]
  },
  {
   "cell_type": "code",
   "execution_count": 2,
   "id": "cf3684b8",
   "metadata": {},
   "outputs": [],
   "source": [
    "def create_graph():\n",
    "    G=nx.Graph()    \n",
    "    G.add_nodes_from(range(1,101))\n",
    "    return G"
   ]
  },
  {
   "cell_type": "code",
   "execution_count": 3,
   "id": "f81d9abc",
   "metadata": {},
   "outputs": [
    {
     "data": {
      "image/png": "[encoded data removed]",
      "text/plain": [
       "<Figure size 432x288 with 1 Axes>"
      ]
     },
     "metadata": {},
     "output_type": "display_data"
    }
   ],
   "source": [
    "plt.show()\n",
    "nx.draw(G)"
   ]
  },
  {
   "cell_type": "code",
   "execution_count": 4,
   "id": "1109ab6a",
   "metadata": {},
   "outputs": [],
   "source": [
    "def assign_bmi(G):\n",
    "    for each in G.nodes():\n",
    "        G.nodes[each]['name']=random.randint(15,40)\n",
    "        G.nodes[each]['type']='person'"
   ]
  },
  {
   "cell_type": "code",
   "execution_count": 5,
   "id": "6c1c1170",
   "metadata": {},
   "outputs": [],
   "source": [
    "def visualize(G,t):\n",
    "    time.sleep(1)\n",
    "    labeldict=get_labels(G)\n",
    "    nodesize=get_size(G)\n",
    "    color=get_colors(G)\n",
    "    nx.draw(G,labels=labeldict,node_size=nodesize,node_color=color)\n",
    "    plt.savefig('evolution.jpg')\n",
    "    plt.clf()\n",
    "    plt.cla()\n",
    "    nx.write_gml(G,'evolution_'+str(t)+'.gml')\n",
    "    #plt.show()"
   ]
  },
  {
   "cell_type": "code",
   "execution_count": 6,
   "id": "1c594b4c",
   "metadata": {},
   "outputs": [],
   "source": [
    "def get_labels(G):\n",
    "    dict1={}\n",
    "    for each in G.nodes():\n",
    "        dict1[each]=G.nodes[each]['name']\n",
    "        #print(dict1[each])\n",
    "    #print(\"labels\")\n",
    "    #print(dict1)\n",
    "    return dict1"
   ]
  },
  {
   "cell_type": "code",
   "execution_count": 7,
   "id": "bfca6b6b",
   "metadata": {},
   "outputs": [],
   "source": [
    "def get_size(G):\n",
    "    array1=[]\n",
    "    for each in G.nodes():\n",
    "        if(G.nodes[each]['type']=='person'):\n",
    "            array1.append(G.nodes[each]['name']*10)\n",
    "        else:\n",
    "            array1.append(500)\n",
    "    return array1"
   ]
  },
  {
   "cell_type": "code",
   "execution_count": 8,
   "id": "af835d94",
   "metadata": {},
   "outputs": [],
   "source": [
    "def add_foci_nodes(G):\n",
    "    n=G.number_of_nodes()\n",
    "    i=n+1\n",
    "    foci_nodes=['gym','eatout','movie_club','karate_club','yoga_club']\n",
    "    for j in range(5):\n",
    "        G.add_node(i)\n",
    "        G.nodes[i]['name']=foci_nodes[j]\n",
    "        G.nodes[i]['type']='foci'\n",
    "        i+=1"
   ]
  },
  {
   "cell_type": "code",
   "execution_count": 9,
   "id": "a3b8dd8c",
   "metadata": {},
   "outputs": [],
   "source": [
    "def get_colors(G):\n",
    "    c=[]\n",
    "    for i in G.nodes():\n",
    "        if(G.nodes[i]['type']=='person'):\n",
    "            if(G.nodes[i]['name']==15):\n",
    "                c.append('yellow')\n",
    "            elif(G.nodes[i]['name']==40):\n",
    "                c.append('green')\n",
    "            else:\n",
    "                c.append('blue')\n",
    "        else:\n",
    "            c.append('red')\n",
    "    return c"
   ]
  },
  {
   "cell_type": "code",
   "execution_count": 10,
   "id": "f5e05691",
   "metadata": {},
   "outputs": [],
   "source": [
    "def get_person_nodes(G):\n",
    "    p=[]\n",
    "    for i in G.nodes():\n",
    "        if(G.nodes[i]['type']=='person'):\n",
    "            p.append(i)\n",
    "    return p"
   ]
  },
  {
   "cell_type": "code",
   "execution_count": 11,
   "id": "32bfb18b",
   "metadata": {},
   "outputs": [],
   "source": [
    "def get_foci_nodes(G):\n",
    "    f=[]\n",
    "    for i in G.nodes():\n",
    "        if(G.nodes[i]['type']=='foci'):\n",
    "            f.append(i)\n",
    "    return f"
   ]
  },
  {
   "cell_type": "code",
   "execution_count": 12,
   "id": "ec451b15",
   "metadata": {},
   "outputs": [],
   "source": [
    "def add_foci_edges(G):\n",
    "    foci_nodes=get_foci_nodes(G)\n",
    "    person_nodes=get_person_nodes(G)\n",
    "    print(\"foci nodes\")\n",
    "    print(foci_nodes)\n",
    "    print(\"person nodes\")\n",
    "    print(person_nodes)\n",
    "    for i in person_nodes:\n",
    "        r=random.choice(foci_nodes)\n",
    "        G.add_edge(i,r)"
   ]
  },
  {
   "cell_type": "code",
   "execution_count": 13,
   "id": "e115b86d",
   "metadata": {},
   "outputs": [],
   "source": [
    "def homophily(G):\n",
    "    pnodes=get_person_nodes(G)\n",
    "    for u in pnodes:\n",
    "        for v in pnodes:\n",
    "            if(u!=v):\n",
    "                diff=abs(G.nodes[u]['name']-G.nodes[v]['name'])\n",
    "                p=1/(diff+1000)\n",
    "                r=random.uniform(0,1)\n",
    "                if(r<p):\n",
    "                    G.add_edge(u,v)"
   ]
  },
  {
   "cell_type": "code",
   "execution_count": 14,
   "id": "087ebc43",
   "metadata": {},
   "outputs": [],
   "source": [
    "#common neighbours\n",
    "def cmn(u,v,G):\n",
    "    nu=set(G.neighbors(u))\n",
    "    nv=set(G.neighbors(v))\n",
    "    return(len(nu & nv))"
   ]
  },
  {
   "cell_type": "code",
   "execution_count": 15,
   "id": "eb3fe8a8",
   "metadata": {},
   "outputs": [],
   "source": [
    "def closure(G):\n",
    "    array1=[]\n",
    "    for u in G.nodes():\n",
    "        for v in G.nodes():\n",
    "            if(u!=v and G.nodes[u]['type']=='person' or G.nodes[v]['type']=='person' ):\n",
    "                k=cmn(u,v,G)\n",
    "                p=1-math.pow(1-0.01,k)\n",
    "                tmp=[]\n",
    "                tmp.append(u)\n",
    "                tmp.append(v)\n",
    "                tmp.append(p)\n",
    "                array1.append(tmp)\n",
    "    #print(array1)\n",
    "    for i in array1:\n",
    "        u=i[0]\n",
    "        v=i[1]\n",
    "        p=i[2]\n",
    "        r=random.uniform(0,1)\n",
    "        if r<p:\n",
    "            G.add_edge(u,v)"
   ]
  },
  {
   "cell_type": "code",
   "execution_count": 16,
   "id": "570d8ade",
   "metadata": {},
   "outputs": [],
   "source": [
    "def change_bmi(G):\n",
    "    fnodes=get_foci_nodes(G)\n",
    "    for i in fnodes:\n",
    "        if(G.nodes[i]['name']=='eatout'):\n",
    "            for j in G.neighbors(i):\n",
    "                if(G.nodes[j]['name']!=40):\n",
    "                    G.nodes[j]['name']=G.nodes[j]['name'] + 1\n",
    "        if(G.nodes[i]['name']=='gym'):\n",
    "            for j in G.neighbors(i):\n",
    "                if(G.nodes[j]['name']!=15):\n",
    "                    G.nodes[j]['name']=G.nodes[j]['name'] - 1"
   ]
  },
  {
   "cell_type": "code",
   "execution_count": 17,
   "id": "2f90d93c",
   "metadata": {},
   "outputs": [
    {
     "name": "stdout",
     "output_type": "stream",
     "text": [
      "foci nodes\n",
      "[101, 102, 103, 104, 105]\n",
      "person nodes\n",
      "[1, 2, 3, 4, 5, 6, 7, 8, 9, 10, 11, 12, 13, 14, 15, 16, 17, 18, 19, 20, 21, 22, 23, 24, 25, 26, 27, 28, 29, 30, 31, 32, 33, 34, 35, 36, 37, 38, 39, 40, 41, 42, 43, 44, 45, 46, 47, 48, 49, 50, 51, 52, 53, 54, 55, 56, 57, 58, 59, 60, 61, 62, 63, 64, 65, 66, 67, 68, 69, 70, 71, 72, 73, 74, 75, 76, 77, 78, 79, 80, 81, 82, 83, 84, 85, 86, 87, 88, 89, 90, 91, 92, 93, 94, 95, 96, 97, 98, 99, 100]\n"
     ]
    },
    {
     "data": {
      "image/png": "[encoded data removed]",
      "text/plain": [
       "<Figure size 432x288 with 1 Axes>"
      ]
     },
     "metadata": {},
     "output_type": "display_data"
    }
   ],
   "source": [
    "G = create_graph()\n",
    "assign_bmi(G)\n",
    "add_foci_nodes(G)#to add interest field in the nodes\n",
    "add_foci_edges(G)\n",
    "time.sleep(10)\n",
    "visualize(G,0)\n",
    "#nx.write_gml(G,'evolution_0.gml')\n",
    "for t in range(1,10):    \n",
    "    homophily(G)\n",
    "    closure(G)\n",
    "    change_bmi(G)\n",
    "    visualize(G,t+1)"
   ]
  },
  {
   "cell_type": "code",
   "execution_count": null,
   "id": "0883a258",
   "metadata": {},
   "outputs": [],
   "source": []
  },
  {
   "cell_type": "code",
   "execution_count": null,
   "id": "5c85bb17",
   "metadata": {},
   "outputs": [],
   "source": []
  }
 ],
 "metadata": {
  "kernelspec": {
   "display_name": "Python 3",
   "language": "python",
   "name": "python3"
  },
  "language_info": {
   "codemirror_mode": {
    "name": "ipython",
    "version": 3
   },
   "file_extension": ".py",
   "mimetype": "text/x-python",
   "name": "python",
   "nbconvert_exporter": "python",
   "pygments_lexer": "ipython3",
   "version": "3.9.5"
  }
 },
 "nbformat": 4,
 "nbformat_minor": 5
}
